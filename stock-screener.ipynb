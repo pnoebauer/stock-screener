{
 "cells": [
  {
   "cell_type": "code",
   "execution_count": 7,
   "id": "senior-opinion",
   "metadata": {},
   "outputs": [],
   "source": [
    "from keys import ameritrade # store API key externally\n",
    "import requests # library for making HTTP requests to API"
   ]
  },
  {
   "cell_type": "code",
   "execution_count": 3,
   "id": "novel-destruction",
   "metadata": {},
   "outputs": [
    {
     "data": {
      "text/plain": [
       "'APRKWXOAWALLEUMXPY1FCGHQZ5HDJGKD'"
      ]
     },
     "execution_count": 3,
     "metadata": {},
     "output_type": "execute_result"
    }
   ],
   "source": [
    "ameritrade"
   ]
  },
  {
   "cell_type": "code",
   "execution_count": 4,
   "id": "becoming-assist",
   "metadata": {},
   "outputs": [],
   "source": [
    "# url to make requests to\n",
    "url = 'https://api.tdameritrade.com/v1/instruments'"
   ]
  },
  {
   "cell_type": "code",
   "execution_count": 8,
   "id": "micro-border",
   "metadata": {},
   "outputs": [],
   "source": [
    "payload = {\n",
    "    'apikey': ameritrade,\n",
    "    'symbol': 'GOOGL',\n",
    "    'projection': 'fundamental'\n",
    "}"
   ]
  },
  {
   "cell_type": "code",
   "execution_count": 9,
   "id": "straight-printing",
   "metadata": {},
   "outputs": [
    {
     "data": {
      "text/plain": [
       "<Response [200]>"
      ]
     },
     "execution_count": 9,
     "metadata": {},
     "output_type": "execute_result"
    }
   ],
   "source": [
    "# make a get request\n",
    "results = requests.get(url, params=payload)\n",
    "results"
   ]
  },
  {
   "cell_type": "code",
   "execution_count": 10,
   "id": "corresponding-eleven",
   "metadata": {},
   "outputs": [
    {
     "data": {
      "text/plain": [
       "['__attrs__',\n",
       " '__bool__',\n",
       " '__class__',\n",
       " '__delattr__',\n",
       " '__dict__',\n",
       " '__dir__',\n",
       " '__doc__',\n",
       " '__enter__',\n",
       " '__eq__',\n",
       " '__exit__',\n",
       " '__format__',\n",
       " '__ge__',\n",
       " '__getattribute__',\n",
       " '__getstate__',\n",
       " '__gt__',\n",
       " '__hash__',\n",
       " '__init__',\n",
       " '__init_subclass__',\n",
       " '__iter__',\n",
       " '__le__',\n",
       " '__lt__',\n",
       " '__module__',\n",
       " '__ne__',\n",
       " '__new__',\n",
       " '__nonzero__',\n",
       " '__reduce__',\n",
       " '__reduce_ex__',\n",
       " '__repr__',\n",
       " '__setattr__',\n",
       " '__setstate__',\n",
       " '__sizeof__',\n",
       " '__str__',\n",
       " '__subclasshook__',\n",
       " '__weakref__',\n",
       " '_content',\n",
       " '_content_consumed',\n",
       " '_next',\n",
       " 'apparent_encoding',\n",
       " 'close',\n",
       " 'connection',\n",
       " 'content',\n",
       " 'cookies',\n",
       " 'elapsed',\n",
       " 'encoding',\n",
       " 'headers',\n",
       " 'history',\n",
       " 'is_permanent_redirect',\n",
       " 'is_redirect',\n",
       " 'iter_content',\n",
       " 'iter_lines',\n",
       " 'json',\n",
       " 'links',\n",
       " 'next',\n",
       " 'ok',\n",
       " 'raise_for_status',\n",
       " 'raw',\n",
       " 'reason',\n",
       " 'request',\n",
       " 'status_code',\n",
       " 'text',\n",
       " 'url']"
      ]
     },
     "execution_count": 10,
     "metadata": {},
     "output_type": "execute_result"
    }
   ],
   "source": [
    "# returned attributes fo the get request\n",
    "dir(results)"
   ]
  },
  {
   "cell_type": "code",
   "execution_count": 11,
   "id": "collected-divide",
   "metadata": {},
   "outputs": [
    {
     "data": {
      "text/plain": [
       "{'GOOGL': {'fundamental': {'symbol': 'GOOGL',\n",
       "   'high52': 2115.0,\n",
       "   'low52': 1008.87,\n",
       "   'dividendAmount': 0.0,\n",
       "   'dividendYield': 0.0,\n",
       "   'dividendDate': ' ',\n",
       "   'peRatio': 36.70912,\n",
       "   'pegRatio': 2.288466,\n",
       "   'pbRatio': 6.35654,\n",
       "   'prRatio': 7.75398,\n",
       "   'pcfRatio': 26.23472,\n",
       "   'grossMarginTTM': 53.57837,\n",
       "   'grossMarginMRQ': 54.16359,\n",
       "   'netProfitMarginTTM': 22.06194,\n",
       "   'netProfitMarginMRQ': 26.76192,\n",
       "   'operatingMarginTTM': 22.58515,\n",
       "   'operatingMarginMRQ': 27.50712,\n",
       "   'returnOnEquity': 18.99544,\n",
       "   'returnOnAssets': 13.52387,\n",
       "   'returnOnInvestment': 16.32075,\n",
       "   'quickRatio': 3.05395,\n",
       "   'currentRatio': 3.06676,\n",
       "   'interestCoverage': 0.0,\n",
       "   'totalDebtToCapital': 6.32724,\n",
       "   'ltDebtToEquity': 6.26034,\n",
       "   'totalDebtToEquity': 6.75462,\n",
       "   'epsTTM': 57.07111,\n",
       "   'epsChangePercentTTM': 16.04093,\n",
       "   'epsChangeYear': 34.65099,\n",
       "   'epsChange': 0.0,\n",
       "   'revChangeYear': 0.0,\n",
       "   'revChangeTTM': 12.77053,\n",
       "   'revChangeIn': 23.22786,\n",
       "   'sharesOutstanding': 300737081.0,\n",
       "   'marketCapFloat': 608.2188,\n",
       "   'marketCap': 1415311.0,\n",
       "   'bookValuePerShare': 13.48898,\n",
       "   'shortIntToFloat': 0.0,\n",
       "   'shortIntDayToCover': 0.0,\n",
       "   'divGrowthRate3Year': 0.0,\n",
       "   'dividendPayAmount': 0.0,\n",
       "   'dividendPayDate': ' ',\n",
       "   'beta': 1.02211,\n",
       "   'vol1DayAvg': 1990070.0,\n",
       "   'vol10DayAvg': 1991100.0,\n",
       "   'vol3MonthAvg': 33841080.0},\n",
       "  'cusip': '02079K305',\n",
       "  'symbol': 'GOOGL',\n",
       "  'description': 'Alphabet Inc. - Class A Common Stock',\n",
       "  'exchange': 'NASDAQ',\n",
       "  'assetType': 'EQUITY'}}"
      ]
     },
     "execution_count": 11,
     "metadata": {},
     "output_type": "execute_result"
    }
   ],
   "source": [
    "# retrieve json object attribute\n",
    "results.json()"
   ]
  },
  {
   "cell_type": "code",
   "execution_count": null,
   "id": "protective-barcelona",
   "metadata": {},
   "outputs": [],
   "source": []
  }
 ],
 "metadata": {
  "kernelspec": {
   "display_name": "Python 3",
   "language": "python",
   "name": "python3"
  },
  "language_info": {
   "codemirror_mode": {
    "name": "ipython",
    "version": 3
   },
   "file_extension": ".py",
   "mimetype": "text/x-python",
   "name": "python",
   "nbconvert_exporter": "python",
   "pygments_lexer": "ipython3",
   "version": "3.8.5"
  }
 },
 "nbformat": 4,
 "nbformat_minor": 5
}
