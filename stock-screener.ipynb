{
 "cells": [
  {
   "cell_type": "code",
   "execution_count": 14,
   "id": "ecological-inspiration",
   "metadata": {},
   "outputs": [],
   "source": [
    "from keys import ameritrade # store API key externally\n",
    "import requests # library for making HTTP requests to API\n",
    "import pandas as pd"
   ]
  },
  {
   "cell_type": "code",
   "execution_count": 64,
   "id": "mexican-tamil",
   "metadata": {},
   "outputs": [
    {
     "data": {
      "text/plain": [
       "'APRKWXOAWALLEUMXPY1FCGHQZ5HDJGKD'"
      ]
     },
     "execution_count": 64,
     "metadata": {},
     "output_type": "execute_result"
    }
   ],
   "source": [
    "ameritrade"
   ]
  },
  {
   "cell_type": "code",
   "execution_count": 94,
   "id": "freelance-nomination",
   "metadata": {},
   "outputs": [
    {
     "name": "stderr",
     "output_type": "stream",
     "text": [
      "<ipython-input-94-b74bdef097ab>:2: FutureWarning: Your version of xlrd is 1.2.0. In xlrd >= 2.0, only the xls format is supported. As a result, the openpyxl engine will be used if it is installed and the engine argument is not specified. Install openpyxl instead.\n",
      "  df = pd.read_excel('Complete_List.xlsx')\n"
     ]
    },
    {
     "data": {
      "text/html": [
       "<div>\n",
       "<style scoped>\n",
       "    .dataframe tbody tr th:only-of-type {\n",
       "        vertical-align: middle;\n",
       "    }\n",
       "\n",
       "    .dataframe tbody tr th {\n",
       "        vertical-align: top;\n",
       "    }\n",
       "\n",
       "    .dataframe thead th {\n",
       "        text-align: right;\n",
       "    }\n",
       "</style>\n",
       "<table border=\"1\" class=\"dataframe\">\n",
       "  <thead>\n",
       "    <tr style=\"text-align: right;\">\n",
       "      <th></th>\n",
       "      <th>Symbol</th>\n",
       "      <th>Company Name</th>\n",
       "      <th>Sector</th>\n",
       "      <th>Industry</th>\n",
       "    </tr>\n",
       "  </thead>\n",
       "  <tbody>\n",
       "    <tr>\n",
       "      <th>0</th>\n",
       "      <td>CUEYF</td>\n",
       "      <td>***CUE ENERGY RES NL NEW ENGLAND</td>\n",
       "      <td>NaN</td>\n",
       "      <td>NaN</td>\n",
       "    </tr>\n",
       "    <tr>\n",
       "      <th>1</th>\n",
       "      <td>PDMDF</td>\n",
       "      <td>***PETRA DIAMONDS US LISTED</td>\n",
       "      <td>NaN</td>\n",
       "      <td>NaN</td>\n",
       "    </tr>\n",
       "    <tr>\n",
       "      <th>2</th>\n",
       "      <td>KJWNF</td>\n",
       "      <td>***WESSANEN NV KONINKLIJKE</td>\n",
       "      <td>NaN</td>\n",
       "      <td>NaN</td>\n",
       "    </tr>\n",
       "    <tr>\n",
       "      <th>3</th>\n",
       "      <td>OCQLF</td>\n",
       "      <td>01 COMMUNIQUE LABORATORY INC</td>\n",
       "      <td>Information Technology</td>\n",
       "      <td>Software</td>\n",
       "    </tr>\n",
       "    <tr>\n",
       "      <th>4</th>\n",
       "      <td>EEIG</td>\n",
       "      <td>024 Pharma Inc</td>\n",
       "      <td>Consumer Staples</td>\n",
       "      <td>Personal Products</td>\n",
       "    </tr>\n",
       "    <tr>\n",
       "      <th>...</th>\n",
       "      <td>...</td>\n",
       "      <td>...</td>\n",
       "      <td>...</td>\n",
       "      <td>...</td>\n",
       "    </tr>\n",
       "    <tr>\n",
       "      <th>10567</th>\n",
       "      <td>ZUO</td>\n",
       "      <td>Zuora Inc</td>\n",
       "      <td>Information Technology</td>\n",
       "      <td>Software</td>\n",
       "    </tr>\n",
       "    <tr>\n",
       "      <th>10568</th>\n",
       "      <td>ZYME</td>\n",
       "      <td>Zymeworks Inc</td>\n",
       "      <td>Health Care</td>\n",
       "      <td>Biotechnology</td>\n",
       "    </tr>\n",
       "    <tr>\n",
       "      <th>10569</th>\n",
       "      <td>ZYNE</td>\n",
       "      <td>Zynerba Pharmaceuticals Inc</td>\n",
       "      <td>Health Care</td>\n",
       "      <td>Pharmaceuticals</td>\n",
       "    </tr>\n",
       "    <tr>\n",
       "      <th>10570</th>\n",
       "      <td>ZYXI</td>\n",
       "      <td>Zynex Inc.</td>\n",
       "      <td>Health Care</td>\n",
       "      <td>Health Care Equipment &amp; Supplies</td>\n",
       "    </tr>\n",
       "    <tr>\n",
       "      <th>10571</th>\n",
       "      <td>ZNGA</td>\n",
       "      <td>Zynga Inc</td>\n",
       "      <td>Communication Services</td>\n",
       "      <td>Entertainment</td>\n",
       "    </tr>\n",
       "  </tbody>\n",
       "</table>\n",
       "<p>10572 rows × 4 columns</p>\n",
       "</div>"
      ],
      "text/plain": [
       "      Symbol                      Company Name                  Sector  \\\n",
       "0      CUEYF  ***CUE ENERGY RES NL NEW ENGLAND                     NaN   \n",
       "1      PDMDF       ***PETRA DIAMONDS US LISTED                     NaN   \n",
       "2      KJWNF        ***WESSANEN NV KONINKLIJKE                     NaN   \n",
       "3      OCQLF      01 COMMUNIQUE LABORATORY INC  Information Technology   \n",
       "4       EEIG                    024 Pharma Inc        Consumer Staples   \n",
       "...      ...                               ...                     ...   \n",
       "10567    ZUO                         Zuora Inc  Information Technology   \n",
       "10568   ZYME                     Zymeworks Inc             Health Care   \n",
       "10569   ZYNE       Zynerba Pharmaceuticals Inc             Health Care   \n",
       "10570   ZYXI                        Zynex Inc.             Health Care   \n",
       "10571   ZNGA                         Zynga Inc  Communication Services   \n",
       "\n",
       "                               Industry  \n",
       "0                                   NaN  \n",
       "1                                   NaN  \n",
       "2                                   NaN  \n",
       "3                              Software  \n",
       "4                     Personal Products  \n",
       "...                                 ...  \n",
       "10567                          Software  \n",
       "10568                     Biotechnology  \n",
       "10569                   Pharmaceuticals  \n",
       "10570  Health Care Equipment & Supplies  \n",
       "10571                     Entertainment  \n",
       "\n",
       "[10572 rows x 4 columns]"
      ]
     },
     "execution_count": 94,
     "metadata": {},
     "output_type": "execute_result"
    }
   ],
   "source": [
    "# Read the complete list of companies into a dataframe\n",
    "df = pd.read_excel('Complete_List.xlsx')\n",
    "df"
   ]
  },
  {
   "cell_type": "code",
   "execution_count": 22,
   "id": "geological-benchmark",
   "metadata": {},
   "outputs": [
    {
     "data": {
      "text/plain": [
       "['CUEYF', 'PDMDF', 'KJWNF', 'OCQLF', 'EEIG']"
      ]
     },
     "execution_count": 22,
     "metadata": {},
     "output_type": "execute_result"
    }
   ],
   "source": [
    "# Only use the 'Symbol' column and convert the series into a list\n",
    "symbols = df['Symbol'].values.tolist()\n",
    "symbols[:5]"
   ]
  },
  {
   "cell_type": "code",
   "execution_count": 25,
   "id": "hearing-india",
   "metadata": {},
   "outputs": [
    {
     "name": "stdout",
     "output_type": "stream",
     "text": [
      "CUEYF\n",
      "PDMDF\n",
      "KJWNF\n",
      "OCQLF\n",
      "EEIG\n",
      "TXG\n",
      "YI\n",
      "RETC\n",
      "CSYS\n",
      "PIH\n"
     ]
    }
   ],
   "source": [
    "for i in symbols[:10]:\n",
    "    print(i)"
   ]
  },
  {
   "cell_type": "code",
   "execution_count": 4,
   "id": "preliminary-blade",
   "metadata": {},
   "outputs": [],
   "source": [
    "# url to make requests to\n",
    "url = 'https://api.tdameritrade.com/v1/instruments'"
   ]
  },
  {
   "cell_type": "code",
   "execution_count": 8,
   "id": "blocked-speech",
   "metadata": {},
   "outputs": [],
   "source": [
    "payload = {\n",
    "    'apikey': ameritrade,\n",
    "    'symbol': 'GOOGL',\n",
    "    'projection': 'fundamental'\n",
    "}"
   ]
  },
  {
   "cell_type": "code",
   "execution_count": 9,
   "id": "brilliant-manual",
   "metadata": {},
   "outputs": [
    {
     "data": {
      "text/plain": [
       "<Response [200]>"
      ]
     },
     "execution_count": 9,
     "metadata": {},
     "output_type": "execute_result"
    }
   ],
   "source": [
    "# make a get request\n",
    "results = requests.get(url, params=payload)\n",
    "results"
   ]
  },
  {
   "cell_type": "code",
   "execution_count": 10,
   "id": "synthetic-school",
   "metadata": {},
   "outputs": [
    {
     "data": {
      "text/plain": [
       "['__attrs__',\n",
       " '__bool__',\n",
       " '__class__',\n",
       " '__delattr__',\n",
       " '__dict__',\n",
       " '__dir__',\n",
       " '__doc__',\n",
       " '__enter__',\n",
       " '__eq__',\n",
       " '__exit__',\n",
       " '__format__',\n",
       " '__ge__',\n",
       " '__getattribute__',\n",
       " '__getstate__',\n",
       " '__gt__',\n",
       " '__hash__',\n",
       " '__init__',\n",
       " '__init_subclass__',\n",
       " '__iter__',\n",
       " '__le__',\n",
       " '__lt__',\n",
       " '__module__',\n",
       " '__ne__',\n",
       " '__new__',\n",
       " '__nonzero__',\n",
       " '__reduce__',\n",
       " '__reduce_ex__',\n",
       " '__repr__',\n",
       " '__setattr__',\n",
       " '__setstate__',\n",
       " '__sizeof__',\n",
       " '__str__',\n",
       " '__subclasshook__',\n",
       " '__weakref__',\n",
       " '_content',\n",
       " '_content_consumed',\n",
       " '_next',\n",
       " 'apparent_encoding',\n",
       " 'close',\n",
       " 'connection',\n",
       " 'content',\n",
       " 'cookies',\n",
       " 'elapsed',\n",
       " 'encoding',\n",
       " 'headers',\n",
       " 'history',\n",
       " 'is_permanent_redirect',\n",
       " 'is_redirect',\n",
       " 'iter_content',\n",
       " 'iter_lines',\n",
       " 'json',\n",
       " 'links',\n",
       " 'next',\n",
       " 'ok',\n",
       " 'raise_for_status',\n",
       " 'raw',\n",
       " 'reason',\n",
       " 'request',\n",
       " 'status_code',\n",
       " 'text',\n",
       " 'url']"
      ]
     },
     "execution_count": 10,
     "metadata": {},
     "output_type": "execute_result"
    }
   ],
   "source": [
    "# returned attributes fo the get request\n",
    "dir(results)"
   ]
  },
  {
   "cell_type": "code",
   "execution_count": 11,
   "id": "measured-physiology",
   "metadata": {},
   "outputs": [
    {
     "data": {
      "text/plain": [
       "{'GOOGL': {'fundamental': {'symbol': 'GOOGL',\n",
       "   'high52': 2115.0,\n",
       "   'low52': 1008.87,\n",
       "   'dividendAmount': 0.0,\n",
       "   'dividendYield': 0.0,\n",
       "   'dividendDate': ' ',\n",
       "   'peRatio': 36.70912,\n",
       "   'pegRatio': 2.288466,\n",
       "   'pbRatio': 6.35654,\n",
       "   'prRatio': 7.75398,\n",
       "   'pcfRatio': 26.23472,\n",
       "   'grossMarginTTM': 53.57837,\n",
       "   'grossMarginMRQ': 54.16359,\n",
       "   'netProfitMarginTTM': 22.06194,\n",
       "   'netProfitMarginMRQ': 26.76192,\n",
       "   'operatingMarginTTM': 22.58515,\n",
       "   'operatingMarginMRQ': 27.50712,\n",
       "   'returnOnEquity': 18.99544,\n",
       "   'returnOnAssets': 13.52387,\n",
       "   'returnOnInvestment': 16.32075,\n",
       "   'quickRatio': 3.05395,\n",
       "   'currentRatio': 3.06676,\n",
       "   'interestCoverage': 0.0,\n",
       "   'totalDebtToCapital': 6.32724,\n",
       "   'ltDebtToEquity': 6.26034,\n",
       "   'totalDebtToEquity': 6.75462,\n",
       "   'epsTTM': 57.07111,\n",
       "   'epsChangePercentTTM': 16.04093,\n",
       "   'epsChangeYear': 34.65099,\n",
       "   'epsChange': 0.0,\n",
       "   'revChangeYear': 0.0,\n",
       "   'revChangeTTM': 12.77053,\n",
       "   'revChangeIn': 23.22786,\n",
       "   'sharesOutstanding': 300737081.0,\n",
       "   'marketCapFloat': 608.2188,\n",
       "   'marketCap': 1415311.0,\n",
       "   'bookValuePerShare': 13.48898,\n",
       "   'shortIntToFloat': 0.0,\n",
       "   'shortIntDayToCover': 0.0,\n",
       "   'divGrowthRate3Year': 0.0,\n",
       "   'dividendPayAmount': 0.0,\n",
       "   'dividendPayDate': ' ',\n",
       "   'beta': 1.02211,\n",
       "   'vol1DayAvg': 1990070.0,\n",
       "   'vol10DayAvg': 1991100.0,\n",
       "   'vol3MonthAvg': 33841080.0},\n",
       "  'cusip': '02079K305',\n",
       "  'symbol': 'GOOGL',\n",
       "  'description': 'Alphabet Inc. - Class A Common Stock',\n",
       "  'exchange': 'NASDAQ',\n",
       "  'assetType': 'EQUITY'}}"
      ]
     },
     "execution_count": 11,
     "metadata": {},
     "output_type": "execute_result"
    }
   ],
   "source": [
    "# retrieve json object attribute\n",
    "results.json()"
   ]
  },
  {
   "cell_type": "code",
   "execution_count": 81,
   "id": "surprised-welsh",
   "metadata": {},
   "outputs": [
    {
     "name": "stdout",
     "output_type": "stream",
     "text": [
      "CUEYF\n",
      "0.0\n",
      "PDMDF\n",
      "0.0\n",
      "KJWNF\n",
      "data could not be retrieved from the API\n",
      "OCQLF\n",
      "0.0\n",
      "EEIG\n",
      "data could not be retrieved from the API\n",
      "TXG\n",
      "0.0\n",
      "YI\n",
      "0.0\n",
      "RETC\n",
      "0.0\n",
      "CSYS\n",
      "0.0\n",
      "PIH\n",
      "data could not be retrieved from the API\n"
     ]
    }
   ],
   "source": [
    "# loop through the symbols and retriv\n",
    "for i in symbols[:10]:\n",
    "    print(i)\n",
    "    payload = {\n",
    "        'apikey': ameritrade,\n",
    "        'symbol': i,\n",
    "        'projection': 'fundamental'\n",
    "    }\n",
    "    dataType = payload['projection']\n",
    "    \n",
    "    try:\n",
    "        results = requests.get(url, params=payload)\n",
    "#         print(results)\n",
    "        data = results.json()\n",
    "#         print(data)\n",
    "#         print(data[i])\n",
    "        print(data[i][dataType]['pegRatio']) #return the pegRatio\n",
    "    except:\n",
    "        print('data could not be retrieved from the API')"
   ]
  },
  {
   "cell_type": "code",
   "execution_count": 92,
   "id": "chubby-easter",
   "metadata": {},
   "outputs": [],
   "source": [
    "# required for naming the files based on time\n",
    "import time\n",
    "import pickle as pkl"
   ]
  },
  {
   "cell_type": "code",
   "execution_count": null,
   "id": "prompt-weight",
   "metadata": {},
   "outputs": [],
   "source": [
    "# Name files based on time, replace spaces and semicolon\n",
    "f_name = 'data/' + time.asctime() + '.pkl'\n",
    "f_name = f_name.replace(' ', '_').replace(':', '_')"
   ]
  },
  {
   "cell_type": "code",
   "execution_count": 104,
   "id": "casual-softball",
   "metadata": {},
   "outputs": [],
   "source": [
    "# Only a certain number of stocks can be retrieved at a time\n",
    "stock_range = 500\n",
    "\n",
    "start = 0\n",
    "end = stock_range\n",
    "\n",
    "while start < len(symbols):\n",
    "    tickers = symbols[start:end]\n",
    "#     print(tickers)\n",
    "\n",
    "    payload = {\n",
    "        'apikey': ameritrade,\n",
    "        'symbol': tickers,\n",
    "        'projection': 'fundamental'\n",
    "    }\n",
    "    \n",
    "    try:\n",
    "        results = requests.get(url, params=payload) # get request for tickers to API\n",
    "        data = results.json() # retrieve json object\n",
    "        # save file named after current time to data folder\n",
    "        f_name = 'data/' + time.asctime() + '.pkl'\n",
    "        f_name = f_name.replace(' ', '_').replace(':', '_')        \n",
    "        # use with statement, this makes sure that file is closed at the end of the block\n",
    "        with open(f_name, 'wb') as file:\n",
    "            pkl.dump(data, file)\n",
    "    except:\n",
    "        print('data could not be retrieved from the API')\n",
    "    \n",
    "    start = end\n",
    "    end += stock_range\n",
    "    time.sleep(1) # wait for 1 sec, required so that each batch will be 1 sec apart, which is required so that all files have different names\n",
    "    \n",
    "#     print(start, end)\n",
    "\n",
    "# print(len(symbols))"
   ]
  },
  {
   "cell_type": "code",
   "execution_count": null,
   "id": "understood-international",
   "metadata": {},
   "outputs": [],
   "source": []
  }
 ],
 "metadata": {
  "kernelspec": {
   "display_name": "Python 3",
   "language": "python",
   "name": "python3"
  },
  "language_info": {
   "codemirror_mode": {
    "name": "ipython",
    "version": 3
   },
   "file_extension": ".py",
   "mimetype": "text/x-python",
   "name": "python",
   "nbconvert_exporter": "python",
   "pygments_lexer": "ipython3",
   "version": "3.8.5"
  }
 },
 "nbformat": 4,
 "nbformat_minor": 5
}
