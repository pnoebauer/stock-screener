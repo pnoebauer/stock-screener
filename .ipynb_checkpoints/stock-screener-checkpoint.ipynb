{
 "cells": [
  {
   "cell_type": "code",
   "execution_count": 1,
   "id": "stuck-aerospace",
   "metadata": {},
   "outputs": [],
   "source": [
    "from keys import ameritrade # store API key externally\n",
    "import requests # library for making HTTP requests to API\n",
    "import pandas as pd"
   ]
  },
  {
   "cell_type": "code",
   "execution_count": null,
   "id": "seven-binary",
   "metadata": {},
   "outputs": [],
   "source": [
    "ameritrade"
   ]
  },
  {
   "cell_type": "code",
   "execution_count": null,
   "id": "warming-handbook",
   "metadata": {},
   "outputs": [],
   "source": [
    "# Read the complete list of companies into a dataframe\n",
    "df = pd.read_excel('Complete_List.xlsx')\n",
    "df"
   ]
  },
  {
   "cell_type": "code",
   "execution_count": null,
   "id": "planned-spouse",
   "metadata": {},
   "outputs": [],
   "source": [
    "# df[df.Symbol.str.contains(r'[@#&$%+-/*]')]\n",
    "\n",
    "# Returns a match for any character except 0 to 9, a to z and A to Z\n",
    "# df[df.Symbol.str.contains(r'[^0-9a-zA-Z]')]\n",
    "\n",
    "# In addition to above do not include those with a '-'\n",
    "# df[df.Symbol.str.contains(r'[^0-9a-zA-Z\\-]')]"
   ]
  },
  {
   "cell_type": "code",
   "execution_count": null,
   "id": "electronic-controversy",
   "metadata": {
    "scrolled": true
   },
   "outputs": [],
   "source": [
    "# All symbols that contain '^', e.g.: DFNS^', cause an error with the API\n",
    "# df[df['Symbol'].str.contains('\\^')]\n",
    "\n",
    "# Remove all that fulfill the condition\n",
    "df['Symbol'] = df[df['Symbol'].str.contains('\\^') == False]"
   ]
  },
  {
   "cell_type": "code",
   "execution_count": null,
   "id": "fifty-ethnic",
   "metadata": {},
   "outputs": [],
   "source": [
    "# Only use the 'Symbol' column and convert the series into a list\n",
    "symbols = df['Symbol'].values.tolist()\n",
    "symbols[:5]"
   ]
  },
  {
   "cell_type": "code",
   "execution_count": null,
   "id": "average-builder",
   "metadata": {},
   "outputs": [],
   "source": [
    "# url to make requests to\n",
    "url = 'https://api.tdameritrade.com/v1/instruments'\n",
    "# symbols[0] = 'CUE^'"
   ]
  },
  {
   "cell_type": "code",
   "execution_count": null,
   "id": "meaning-parallel",
   "metadata": {},
   "outputs": [],
   "source": [
    "# # Check if any symbol is in the wrong format for the API\n",
    "# index = 0\n",
    "\n",
    "# # while index < 2:\n",
    "# while index < len(symbols):\n",
    "#     ticker = symbols[index]\n",
    "# #     print(ticker)\n",
    "#     print(index, ticker)\n",
    "\n",
    "#     payload = {\n",
    "#         'apikey': ameritrade,\n",
    "#         'symbol': ticker,\n",
    "#         'projection': 'symbol-search'\n",
    "#     }\n",
    "    \n",
    "#     try:\n",
    "#         results = requests.get(url, params=payload) # get request for tickers to API\n",
    "# #         print(results.status_code)\n",
    "#         if results.status_code == 400:\n",
    "#             print('wrong format with', ticker, 'index', index)\n",
    "# #             symbols.pop(index) # remove symbol from the list\n",
    "# #             df.drop(df.index[index], inplace=True)\n",
    "#     except:\n",
    "#         print('data could not be retrieved from the API')\n",
    "    \n",
    "#     index += 1"
   ]
  },
  {
   "cell_type": "code",
   "execution_count": null,
   "id": "recent-document",
   "metadata": {},
   "outputs": [],
   "source": [
    "# # Save cleaned DataFrame to csv\n",
    "# df.to_csv('Edited_List.csv', index=False)"
   ]
  },
  {
   "cell_type": "code",
   "execution_count": null,
   "id": "thirty-thesis",
   "metadata": {},
   "outputs": [],
   "source": [
    "# # Only use the 'Symbol' column and convert the series into a list\n",
    "# symbols = df['Symbol'].values.tolist()\n",
    "# symbols[:5]"
   ]
  },
  {
   "cell_type": "code",
   "execution_count": null,
   "id": "solar-sewing",
   "metadata": {},
   "outputs": [],
   "source": [
    "for i in symbols[:10]:\n",
    "    print(i)"
   ]
  },
  {
   "cell_type": "code",
   "execution_count": null,
   "id": "average-separation",
   "metadata": {},
   "outputs": [],
   "source": []
  },
  {
   "cell_type": "code",
   "execution_count": 2,
   "id": "attractive-rugby",
   "metadata": {},
   "outputs": [
    {
     "name": "stdout",
     "output_type": "stream",
     "text": [
      "    Symbol                 Name                  Sector\n",
      "0      MMM           3M Company             Industrials\n",
      "1      AOS      A.O. Smith Corp             Industrials\n",
      "2      ABT  Abbott Laboratories             Health Care\n",
      "3     ABBV          AbbVie Inc.             Health Care\n",
      "4     ABMD              Abiomed             Health Care\n",
      "..     ...                  ...                     ...\n",
      "500    YUM      Yum! Brands Inc  Consumer Discretionary\n",
      "501   ZBRA   Zebra Technologies  Information Technology\n",
      "502    ZBH        Zimmer Biomet             Health Care\n",
      "503   ZION        Zions Bancorp              Financials\n",
      "504    ZTS               Zoetis             Health Care\n",
      "\n",
      "[505 rows x 3 columns]\n",
      "    Symbol                 Name                  Sector\n",
      "0      MMM           3M Company             Industrials\n",
      "1      AOS      A.O. Smith Corp             Industrials\n",
      "2      ABT  Abbott Laboratories             Health Care\n",
      "3     ABBV          AbbVie Inc.             Health Care\n",
      "4     ABMD              Abiomed             Health Care\n",
      "..     ...                  ...                     ...\n",
      "500    YUM      Yum! Brands Inc  Consumer Discretionary\n",
      "501   ZBRA   Zebra Technologies  Information Technology\n",
      "502    ZBH        Zimmer Biomet             Health Care\n",
      "503   ZION        Zions Bancorp              Financials\n",
      "504    ZTS               Zoetis             Health Care\n",
      "\n",
      "[505 rows x 3 columns]\n"
     ]
    }
   ],
   "source": [
    "# Retrieve SP500 stock list from datahub API (https://datahub.io/core/s-and-p-500-companies#pandas)\n",
    "\n",
    "import datapackage\n",
    "\n",
    "data_url = 'https://datahub.io/core/s-and-p-500-companies/datapackage.json'\n",
    "\n",
    "# to load Data Package into storage\n",
    "package = datapackage.Package(data_url)\n",
    "\n",
    "# to load only tabular data\n",
    "resources = package.resources\n",
    "for resource in resources:\n",
    "    if resource.tabular:\n",
    "        data = pd.read_csv(resource.descriptor['path'])\n",
    "        print (data)"
   ]
  },
  {
   "cell_type": "code",
   "execution_count": null,
   "id": "improved-pharmacology",
   "metadata": {},
   "outputs": [],
   "source": []
  },
  {
   "cell_type": "code",
   "execution_count": null,
   "id": "indirect-glasgow",
   "metadata": {},
   "outputs": [],
   "source": [
    "# url to make requests to\n",
    "url = 'https://api.tdameritrade.com/v1/instruments'"
   ]
  },
  {
   "cell_type": "code",
   "execution_count": null,
   "id": "ambient-individual",
   "metadata": {},
   "outputs": [],
   "source": [
    "payload = {\n",
    "    'apikey': ameritrade,\n",
    "    'symbol': 'GOOGL',\n",
    "    'projection': 'fundamental'\n",
    "}"
   ]
  },
  {
   "cell_type": "code",
   "execution_count": null,
   "id": "behavioral-blake",
   "metadata": {},
   "outputs": [],
   "source": [
    "# make a get request\n",
    "results = requests.get(url, params=payload)\n",
    "results"
   ]
  },
  {
   "cell_type": "code",
   "execution_count": null,
   "id": "outer-basic",
   "metadata": {},
   "outputs": [],
   "source": [
    "# returned attributes fo the get request\n",
    "dir(results)"
   ]
  },
  {
   "cell_type": "code",
   "execution_count": null,
   "id": "previous-october",
   "metadata": {},
   "outputs": [],
   "source": [
    "# retrieve json object attribute\n",
    "results.json()"
   ]
  },
  {
   "cell_type": "code",
   "execution_count": null,
   "id": "vital-lighter",
   "metadata": {},
   "outputs": [],
   "source": [
    "# # loop through first 10 symbols and retrieve pegRation\n",
    "# for i in symbols[:10]:\n",
    "#     print(i)\n",
    "#     payload = {\n",
    "#         'apikey': ameritrade,\n",
    "#         'symbol': i,\n",
    "#         'projection': 'fundamental'\n",
    "#     }\n",
    "#     dataType = payload['projection']\n",
    "    \n",
    "#     try:\n",
    "#         results = requests.get(url, params=payload)\n",
    "# #         print(results)\n",
    "#         data = results.json()\n",
    "# #         print(data)\n",
    "# #         print(data[i])\n",
    "#         print(data[i][dataType]['pegRatio']) #return the pegRatio\n",
    "#     except:\n",
    "#         print('data could not be retrieved from the API')"
   ]
  },
  {
   "cell_type": "code",
   "execution_count": null,
   "id": "recognized-decade",
   "metadata": {},
   "outputs": [],
   "source": [
    "import time # required for naming the files based on time\n",
    "import pickle as pkl # save and load file\n",
    "import os # for removing the files"
   ]
  },
  {
   "cell_type": "code",
   "execution_count": null,
   "id": "subtle-doctrine",
   "metadata": {},
   "outputs": [],
   "source": [
    "# # Name files based on time, replace spaces and semicolon\n",
    "# f_name = 'data/' + time.asctime() + '.pkl'\n",
    "# f_name = f_name.replace(' ', '_').replace(':', '_')"
   ]
  },
  {
   "cell_type": "code",
   "execution_count": null,
   "id": "inclusive-annual",
   "metadata": {},
   "outputs": [],
   "source": [
    "# Only a certain number of stocks can be retrieved at a time\n",
    "stock_range = 500\n",
    "\n",
    "start = 0\n",
    "end = start + stock_range\n",
    "\n",
    "files = []\n",
    "\n",
    "while start < len(symbols):\n",
    "    tickers = symbols[start:end]\n",
    "#     print(tickers)\n",
    "\n",
    "    payload = {\n",
    "        'apikey': ameritrade,\n",
    "        'symbol': tickers,\n",
    "        'projection': 'fundamental'\n",
    "    }\n",
    "    \n",
    "    try:\n",
    "        results = requests.get(url, params=payload) # get request for tickers to API\n",
    "        data = results.json() # retrieve json object\n",
    "        # save file named after current time to data folder\n",
    "        f_name = 'data/' + time.asctime() + '.pkl'\n",
    "        f_name = f_name.replace(' ', '_').replace(':', '_')    \n",
    "        files.append(f_name)\n",
    "        \n",
    "        # use with statement, this makes sure that file is closed at the end of the block\n",
    "        with open(f_name, 'wb') as file:\n",
    "            pkl.dump(data, file)\n",
    "    except:\n",
    "        print('data could not be retrieved from the API')\n",
    "    \n",
    "    start = end\n",
    "    end += stock_range\n",
    "    time.sleep(1) # wait for 1 sec, required so that each batch will be 1 sec apart, which is required so that all files have different names\n",
    "    \n",
    "#     print(start, end)\n",
    "\n",
    "# print(len(symbols))"
   ]
  },
  {
   "cell_type": "code",
   "execution_count": null,
   "id": "piano-works",
   "metadata": {},
   "outputs": [],
   "source": [
    "# directory = {\n",
    "#     'AGLE': {\n",
    "#             'fundamental': {\n",
    "#                      'symbol': 'AGLE', \n",
    "#                      'high52': 11.38, \n",
    "#                      'low52': 3.5, \n",
    "#                      'dividendAmount': 0.0, \n",
    "#                      'dividendYield': 0.0, \n",
    "#                      'dividendDate': ' ', \n",
    "#                      'peRatio': 0.0\n",
    "#             }\n",
    "#     }\n",
    "# }\n",
    "# directory"
   ]
  },
  {
   "cell_type": "code",
   "execution_count": null,
   "id": "thousand-nothing",
   "metadata": {},
   "outputs": [],
   "source": [
    "# list(directory)"
   ]
  },
  {
   "cell_type": "code",
   "execution_count": null,
   "id": "assigned-tension",
   "metadata": {},
   "outputs": [],
   "source": [
    "# Retrieve data from stored files\n",
    "tickerData = []\n",
    "# for file in files[:1]:\n",
    "# loop through all files\n",
    "for file_number, file in enumerate(files):\n",
    "    with open(file, 'rb') as f:\n",
    "        info = pkl.load(f)\n",
    "    \n",
    "    try:\n",
    "        tickers = list(info) # retrieve only the tickers from the dictionary (key of outermost dictionaries)\n",
    "    #     print(info)\n",
    "#         print(tickers, file_number)\n",
    "        points = ['symbol', 'netProfitMarginMRQ', 'peRatio', 'pegRatio', 'high52']\n",
    "        for ticker in tickers:\n",
    "            tick = []\n",
    "            for point in points:\n",
    "    #             print(info[ticker]['fundamental'][point])\n",
    "                tick.append(info[ticker]['fundamental'][point]) # store each fundamental data\n",
    "            tickerData.append(tick) # store the fundamental data for each tick in tickerData\n",
    "    #     os.remove(file) # delete file after storing the data\n",
    "    \n",
    "    except:\n",
    "        print('Error with file_number:', file_number, info)\n",
    "    "
   ]
  },
  {
   "cell_type": "code",
   "execution_count": null,
   "id": "distant-carnival",
   "metadata": {},
   "outputs": [],
   "source": [
    "stockData = pd.DataFrame(tickerData, columns=points)\n",
    "stockData"
   ]
  },
  {
   "cell_type": "code",
   "execution_count": null,
   "id": "optional-queensland",
   "metadata": {},
   "outputs": [],
   "source": [
    "# Return all stocks with a pegRatio greater 1\n",
    "stockData_peg = stockData[stockData['pegRatio'] > 1]\n",
    "stockData_peg"
   ]
  },
  {
   "cell_type": "code",
   "execution_count": null,
   "id": "chinese-masters",
   "metadata": {},
   "outputs": [],
   "source": []
  }
 ],
 "metadata": {
  "kernelspec": {
   "display_name": "Python 3",
   "language": "python",
   "name": "python3"
  },
  "language_info": {
   "codemirror_mode": {
    "name": "ipython",
    "version": 3
   },
   "file_extension": ".py",
   "mimetype": "text/x-python",
   "name": "python",
   "nbconvert_exporter": "python",
   "pygments_lexer": "ipython3",
   "version": "3.8.5"
  }
 },
 "nbformat": 4,
 "nbformat_minor": 5
}
